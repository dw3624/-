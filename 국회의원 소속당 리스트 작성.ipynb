{
 "cells": [
  {
   "cell_type": "code",
   "execution_count": 15,
   "metadata": {},
   "outputs": [],
   "source": [
    "import pandas as pd\n",
    "import re\n",
    "import requests\n",
    "from bs4 import BeautifulSoup\n",
    "import datetime"
   ]
  },
  {
   "cell_type": "markdown",
   "metadata": {},
   "source": [
    "# 당 국회의원 명단 작성\n",
    "출처: 위키피디아"
   ]
  },
  {
   "cell_type": "code",
   "execution_count": 16,
   "metadata": {},
   "outputs": [],
   "source": [
    "# 17년도용\n",
    "def partymem(url):\n",
    "    soup = BeautifulSoup(url.content,'html.parser')\n",
    "    party_elem = soup.select('span.mw-headline')\n",
    "    mem_elem = soup.select('#mw-content-text > div.mw-parser-output > p > a')\n",
    "    party, mem_raw, mem = [],[],[]\n",
    "    \n",
    "    for i in party_elem:\n",
    "        party.append(i.text)   # 당명 추출\n",
    "        \n",
    "    for i in mem_elem:\n",
    "        mem_raw.append(i.text)   # 위원 목록 추출\n",
    "\n",
    "    for name in mem_raw:\n",
    "        if len(name) < 5:\n",
    "            mem.append(name)   # 위원 목록에서 날짜 등 제거\n",
    "    \n",
    "    return party, mem"
   ]
  },
  {
   "cell_type": "code",
   "execution_count": 17,
   "metadata": {},
   "outputs": [],
   "source": [
    "# 18년도 이후용\n",
    "def partymem2(url):\n",
    "    soup = BeautifulSoup(url.content,'html.parser')\n",
    "    party_elem = soup.select('span.mw-headline')\n",
    "    mem_elem = soup.select('#mw-content-text > div.mw-parser-output > ul > li')\n",
    "    party, mem_raw, mem = [],[],[]\n",
    "    \n",
    "    for i in party_elem:\n",
    "        party.append(i.text)   # 당명 추출\n",
    "        \n",
    "    for i in mem_elem:\n",
    "        mem_raw.append(i.text)   # 위원 목록 추출\n",
    "\n",
    "    for name in mem_raw:\n",
    "        name = name[:name.find('(')]\n",
    "        name = name.replace(' ','')\n",
    "        \n",
    "        if len(name) < 5:\n",
    "            mem.append(name)   # 위원 목록 () 내용 제거\n",
    "    \n",
    "    return party, mem"
   ]
  },
  {
   "cell_type": "markdown",
   "metadata": {},
   "source": [
    "web17 = requests.get('https://ko.wikipedia.org/wiki/%EB%8C%80%ED%95%9C%EB%AF%BC%EA%B5%AD_%EC%A0%9C17%EB%8C%80_%EA%B5%AD%ED%9A%8C%EC%9D%98%EC%9B%90_%EB%AA%A9%EB%A1%9D_(%EC%A0%95%EB%8B%B9%EB%B3%84)')\n",
    "web18 = requests.get('https://ko.wikipedia.org/wiki/%EB%8C%80%ED%95%9C%EB%AF%BC%EA%B5%AD_%EC%A0%9C18%EB%8C%80_%EA%B5%AD%ED%9A%8C%EC%9D%98%EC%9B%90_%EB%AA%A9%EB%A1%9D_(%EC%A0%95%EB%8B%B9%EB%B3%84)')\n",
    "web19 = requests.get('https://ko.wikipedia.org/wiki/%EB%8C%80%ED%95%9C%EB%AF%BC%EA%B5%AD_%EC%A0%9C19%EB%8C%80_%EA%B5%AD%ED%9A%8C%EC%9D%98%EC%9B%90_%EB%AA%A9%EB%A1%9D_(%EC%A0%95%EB%8B%B9%EB%B3%84)')\n",
    "web20 = requests.get('https://ko.wikipedia.org/wiki/%EB%8C%80%ED%95%9C%EB%AF%BC%EA%B5%AD_%EC%A0%9C20%EB%8C%80_%EA%B5%AD%ED%9A%8C%EC%9D%98%EC%9B%90_%EB%AA%A9%EB%A1%9D_(%EC%A0%95%EB%8B%B9%EB%B3%84)')\n",
    "web21 = requests.get('https://ko.wikipedia.org/wiki/%EB%8C%80%ED%95%9C%EB%AF%BC%EA%B5%AD_%EC%A0%9C21%EB%8C%80_%EA%B5%AD%ED%9A%8C%EC%9D%98%EC%9B%90_%EB%AA%A9%EB%A1%9D_(%EC%A0%95%EB%8B%B9%EB%B3%84)')"
   ]
  },
  {
   "cell_type": "code",
   "execution_count": 18,
   "metadata": {},
   "outputs": [],
   "source": [
    "party17_n,mem17 = partymem(web17)\n",
    "party18_n,mem18 = partymem2(web18)\n",
    "party19_n,mem19 = partymem2(web19)\n",
    "party20_n,mem20 = partymem2(web20)\n",
    "party21_n,mem21 = partymem2(web21)"
   ]
  },
  {
   "cell_type": "code",
   "execution_count": 22,
   "metadata": {},
   "outputs": [],
   "source": [
    "partymem17 = pd.DataFrame({'party':'','name': mem17})\n",
    "partymem17.loc[:mem17.index('최연희'),'party'] = party17_n[6]\n",
    "partymem17.loc[:mem17.index('김선미'),'party'] = party17_n[5]\n",
    "partymem17.loc[:mem17.index('김영춘'),'party'] = party17_n[4]\n",
    "partymem17.loc[:mem17.index('조순형'),'party'] = party17_n[3]\n",
    "partymem17.loc[:mem17.index('현애자'),'party'] = party17_n[2]\n",
    "partymem17.loc[:mem17.index('황진하'),'party'] = party17_n[1]\n",
    "partymem17.loc[:mem17.index('홍창선'),'party'] = party17_n[0]\n",
    "partymem17['start'] = datetime.date(2004,5,30)  # 임기시작\n",
    "partymem17['end'] = datetime.date(2008,5,29)   # 임기종료"
   ]
  },
  {
   "cell_type": "code",
   "execution_count": 24,
   "metadata": {},
   "outputs": [],
   "source": [
    "partymem18 = pd.DataFrame({'party':'','name': mem18})\n",
    "partymem18.loc[:mem18.index('최인기'),'party'] = party18_n[6]\n",
    "partymem18.loc[:mem18.index('전여옥'),'party'] = party18_n[5]\n",
    "partymem18.loc[:mem18.index('이한정'),'party'] = party18_n[4]\n",
    "partymem18.loc[:mem18.index('홍희덕'),'party'] = party18_n[3]\n",
    "partymem18.loc[:mem18.index('조순형'),'party'] = party18_n[2]\n",
    "partymem18.loc[:mem18.index('홍재형'),'party'] = party18_n[1]\n",
    "partymem18.loc[:mem18.index('황진하'),'party'] = party18_n[0]\n",
    "partymem18['start'] = datetime.date(2008,5,30)\n",
    "partymem18['end'] = datetime.date(2012,5,29)"
   ]
  },
  {
   "cell_type": "code",
   "execution_count": 25,
   "metadata": {},
   "outputs": [],
   "source": [
    "partymem19 = pd.DataFrame({'party':'','name': mem19})\n",
    "partymem19.loc[:mem19.index('현영희'),'party'] = party19_n[6]\n",
    "partymem19.loc[:mem19.index('신기남'),'party'] = party19_n[5]\n",
    "partymem19.loc[:mem19.index('황주홍'),'party'] = party19_n[4]\n",
    "partymem19.loc[:mem19.index('정진후'),'party'] = party19_n[3]\n",
    "partymem19.loc[:mem19.index('이석기'),'party'] = party19_n[2]\n",
    "partymem19.loc[:mem19.index('홍종학'),'party'] = party19_n[1]\n",
    "partymem19.loc[:mem19.index('황진하'),'party'] = party19_n[0]\n",
    "partymem19['start'] = datetime.date(2012,5,30)\n",
    "partymem19['end'] = datetime.date(2016,5,29)"
   ]
  },
  {
   "cell_type": "code",
   "execution_count": 26,
   "metadata": {},
   "outputs": [],
   "source": [
    "partymem20 = pd.DataFrame({'party':'','name': mem20})\n",
    "partymem20.loc[:mem20.index('정태옥'),'party'] = party20_n[9]\n",
    "partymem20.loc[:mem20.index('홍문종'),'party'] = party20_n[8]\n",
    "partymem20.loc[:mem20.index('손혜원'),'party'] = party20_n[7]\n",
    "partymem20.loc[:mem20.index('윤종오'),'party'] = party20_n[6]\n",
    "partymem20.loc[:mem20.index('이태규'),'party'] = party20_n[5]\n",
    "partymem20.loc[:mem20.index('조원진'),'party'] = party20_n[4]\n",
    "partymem20.loc[:mem20.index('추혜선'),'party'] = party20_n[3]\n",
    "partymem20.loc[:mem20.index('황주홍'),'party'] = party20_n[2]\n",
    "partymem20.loc[:mem20.index('황영철'),'party'] = party20_n[1]\n",
    "partymem20.loc[:mem20.index('황희'),'party'] = party20_n[0]\n",
    "partymem20['start'] = datetime.date(2016,5,30)\n",
    "partymem20['end'] = datetime.date(2020,5,29)"
   ]
  },
  {
   "cell_type": "code",
   "execution_count": 29,
   "metadata": {},
   "outputs": [],
   "source": [
    "partymem21 = pd.DataFrame({'party':'','name': mem21})\n",
    "partymem21.loc[:mem21.index('홍준표'),'party'] = party21_n[7]\n",
    "partymem21.loc[:mem21.index('조정훈'),'party'] = party21_n[6]\n",
    "partymem21.loc[:mem21.index('최강욱'),'party'] = party21_n[4]\n",
    "partymem21.loc[:mem21.index('최연숙'),'party'] = party21_n[3]\n",
    "partymem21.loc[:mem21.index('장혜영'),'party'] = party21_n[2]\n",
    "partymem21.loc[:mem21.index('황보승희'),'party'] = party21_n[1]\n",
    "partymem21.loc[:mem21.index('황희'),'party'] = party21_n[0]\n",
    "partymem21['start'] = datetime.date(2020,5,30)\n",
    "partymem21['end'] = datetime.date(2024,5,29)"
   ]
  },
  {
   "cell_type": "code",
   "execution_count": 30,
   "metadata": {},
   "outputs": [],
   "source": [
    "partymem17.to_csv('C:/Users/user/python/local/Congress_Meeting_Log/data/patymem17.csv',index = False)\n",
    "partymem18.to_csv('C:/Users/user/python/local/Congress_Meeting_Log/data/patymem18.csv',index = False)\n",
    "partymem19.to_csv('C:/Users/user/python/local/Congress_Meeting_Log/data/patymem19.csv',index = False)\n",
    "partymem20.to_csv('C:/Users/user/python/local/Congress_Meeting_Log/data/patymem20.csv',index = False)\n",
    "partymem21.to_csv('C:/Users/user/python/local/Congress_Meeting_Log/data/patymem21.csv',index = False)"
   ]
  }
 ],
 "metadata": {
  "kernelspec": {
   "display_name": "Python 3",
   "language": "python",
   "name": "python3"
  },
  "language_info": {
   "codemirror_mode": {
    "name": "ipython",
    "version": 3
   },
   "file_extension": ".py",
   "mimetype": "text/x-python",
   "name": "python",
   "nbconvert_exporter": "python",
   "pygments_lexer": "ipython3",
   "version": "3.8.5"
  }
 },
 "nbformat": 4,
 "nbformat_minor": 4
}
